{
 "cells": [
  {
   "cell_type": "markdown",
   "metadata": {
    "deletable": false,
    "editable": false,
    "id": "_lhzUjEU052V",
    "nbgrader": {
     "checksum": "26e6840d18bee9b2d3a0d20b9feb48ad",
     "grade": false,
     "grade_id": "cell-461fb8635becf7f2",
     "locked": true,
     "schema_version": 1,
     "solution": false
    }
   },
   "source": [
    "# Neural Network for Digit Classification\n",
    "\n",
    "Author: Emily Cheng-hsin Wuu\n",
    "\n",
    "**Maximum possible score = 100 points**\n",
    "\n",
    "### Assignment Overview\n",
    "Deep learning has quickly become one of the more popular applied machine learning techniques in\n",
    "computer vision. Convolutional neural networks have been applied to many different computer vision problems such as image classification, recognition, and segmentation with great success. \n",
    "\n",
    "In this assignment, you will first implement a fully-connected feed-forward neural network for hand-written digit classification, which involves going into the details of network parameter initialization, activation functions, loss functions and gradient computation. You will go through the forward pass and the backward propagation demistify neural networks. Next, you  will move your work to PyTorch, where you can learn to use a modern deep learning framework to classify digits. \n",
    "\n",
    "### Learning Objectives \n",
    "* Describe the structure and function of neural networks and use a deep neural network to classify hand-written digits.\n",
    "\n",
    "### Source\n",
    "\n",
    "This assignment was derived, in part, from assignments used in conjunction with computer vision courses at Carnegie Mellon University: \n",
    "\n",
    "* 16-385 Computer Vision: Digit Recognition with Convolutional Neural Networks\n",
    "    * Authors: *Abhinav Garlapati and Prakruti Gogia*\n",
    "* 16-720A Computer Vision: Optical Character Recognition using Neural Networks\n",
    "    * Authors: *Chen-Hsuan Lin, Brian Okorn, Yifan Xing, Sree Harsha Kalli, Siddarth Malreddy, Prakhar Pradeep Naval, Khushi Gupta, Shangxuan Wu, Bala Siva Jujjavarapu, Jingyan Wang, Yashasvi Agrawal*\n",
    "* 16720-A S18 OCR using Neural Networks\n",
    "    * Authors: *Leonid Keselman, Mohit Sharma, Arjun Sharma, Rawal Khirodkar, Aashi Manglik, Tanya Marwah*\n",
    "* 16720-A F18 Neural Networks for Recognition\n",
    "    * Authors: *Leonid Keselman, Tanya Marwah, Shashank Tripathi, Vibha Nasery, Jiayuan Li*\n",
    "* 16720-B F18 Neural Networks for Recognition\n",
    "    * Authors: *Gaurav Mittal, Akshita Mittel, Sowmya Munukutla, Nathaniel Chodosh, Ming-Fang Chang, Chengqian Che*"
   ]
  },
  {
   "cell_type": "markdown",
   "metadata": {
    "deletable": false,
    "editable": false,
    "id": "Ip-vNwRM052V",
    "nbgrader": {
     "checksum": "6539537dfaf911564abb74fdb0e60e38",
     "grade": false,
     "grade_id": "cell-91fea75f52783136",
     "locked": true,
     "schema_version": 1,
     "solution": false
    }
   },
   "source": [
    "# Table of Contents \n",
    "\n",
    "#### [Part I: Implement a Fully-connected Neural Network [100 pts]](#part-1)\n",
    "- [Item 1 [0 pts]: Network Initialization (Xavier)](#q1)\n",
    "- [Item 2 [10 pts]: Sigmoid Activation Function](#q2)\n",
    "- [Item 3 [15 pts]: Softmax Function](#q3)\n",
    "- [Item 4 [15 pts]: Loss Function (Cross-Entropy)](#q4)\n",
    "- [Item 5 [20 pts]: Forward Pass](#q5)\n",
    "- [Item 6 [20 pts]: Gradient Computation](#q6)\n",
    "- [Item 7 [0 pts]: Backward Propagation](#q7)\n",
    "- [Item 8 [20 pts]: Train Models with NIST36](#q8)\n",
    "\n",
    "#### [Part 2: PyTorch for Digit Classification [0 pts]](#part-2)\n",
    "- [Item 9 [0 pts]: PyTorch Installation](#q9)\n",
    "- [Item 10 [0 pts]: Train Models with NIST36 (PyTorch)](#q10)"
   ]
  },
  {
   "cell_type": "code",
   "execution_count": 1,
   "metadata": {
    "id": "gC_SMiinZWVa"
   },
   "outputs": [],
   "source": [
    "#import Python libraries for this assignment\n",
    "import numpy as np\n",
    "import scipy.io\n",
    "import matplotlib.pyplot as plt\n",
    "from mpl_toolkits.axes_grid1 import ImageGrid"
   ]
  },
  {
   "cell_type": "markdown",
   "metadata": {
    "deletable": false,
    "editable": false,
    "id": "wZZKsa8lTAON",
    "nbgrader": {
     "checksum": "44f7775e85a73e32ec8cb2c16cf2b58d",
     "grade": false,
     "grade_id": "cell-171479d7532dd376",
     "locked": true,
     "schema_version": 1,
     "solution": false
    }
   },
   "source": [
    "<a name=\"part-1\"></a>\n",
    "# Part I: Implement a Fully-connected Neural Network [ 45 pts]\n",
    "We will give a brief overview of the math for a feed forward network with a single hidden layer. There are two parts:  (1) forward propagation where the network learns from the input data; (2) backward propagation where the network updates its parameters based on the loss function. This will help you to understand the implementation of different functions required for building a simple two-layer neural network at the end of this section. \n",
    "\n",
    "## Forward propagation\n",
    "To do classifcation with a fully-connected network $f$, you need to apply a series of linear and non-linear\n",
    "functions to an input vector $x$ of size $N \\times 1$ to generate an output vector $f(x)$ of size\n",
    "$C \\times 1 $, where each element of the output vector represents the probability of input vector $x$ belonging to certain class in the dataset. The input layer has $N$ input units as the dimension of the data samples is $N$. In between the input and output layers, we need to compute the values of each units from all of the hidden layers. For any unit $x$ from the <i><b>pre-activated</b></i> hidden layers, we can write it as \n",
    "\n",
    " <center>$a^{(1)}(x) = W^{(1)}x + b^{(1)}$</center>\n",
    " \n",
    "Next, it will go through an activation function $g$, and the <i><b>post-activated</b></i>values of the hidden layer $h^{(1)}(x)$ will be:\n",
    "\n",
    "<center>$h^{(1)}(x)= g(a^{(1)}(x)) = g(W^{(1)}x + b^{(1)})$ </center>\n",
    "\n",
    "Following this pattern, we can write any hidden layer ($1 < t \\leq T $) pre- and post- activations by:\n",
    "\n",
    " <center>$a^{(t)}(x) = W^{(t)}h^{(t-1)} + b^{(t)}$ </center>\n",
    " \n",
    " <center>$h^{(t)}(x) = g(a^{(t)}(x))$ </center>\n",
    " \n",
    "Finally, the  <i><b>post-activation</b></i> values of the output layer are computed with:\n",
    "\n",
    "<center>$f^{(x)} = o(a^{(T)}(x)) = o(W^{(T)}h^{(T - 1)}(x) + b^{(T)})$</center>\n",
    "\n",
    "where $o$ is the output activation function. For most of the case activation function $g$ and $o$ will be different. For\n",
    "this assignment, you will be using the <i><b>sigmoid activation function</b></i>  for the hidden layer (activation function $g$):\n",
    "<center>$g(y) = \\frac{1}{1 + exp(y)}$</center>\n",
    "\n",
    "where when $g$ is applied to a vector, it is applied element wise across the vector.\n",
    "\n",
    "\n",
    "Since you are working on classification tasks, you will use <i><b>softmax function</b></i> as the output activation function ($o$) to turn the real value, possibly negative\n",
    "values of $a^{(T)}(x)$ into a set of probabilities (vector of positive numbers that sum to 1) that represents the possibility of each element belonging to certain class in the dataset. Letting\n",
    "$x_{i}$ denote the $i$th element of the vector $x$, the softmax function is defined as:\n",
    "<center>$o_{i}(y) = \\frac{exp(y_{i})}{\\sum_{j}{exp(y_{j})}} $</center>\n",
    "\n",
    "\n",
    "After your network outputs the predicting probabilities of each class, you arrive at your final destination of the forward propagation: computing the loss function. Here, the loss function is used to compute the difference between the ground truth (true value), and the prediction from the network. A properly-functioning network should have the prediction as close to the ground truth as possible, meaning that the difference of these two terms should be somewhere close to zero. For this programming assignment, you will use <i><b>cross-entropy loss</b></i>, which is generally used for classification tasks: \n",
    "<center>$L_{f}(D) = -\\sum_{(x, y)\\in D}{y \\cdot log(f{x})}$</center>\n",
    "\n",
    "In the later sections, you will see more details about the intuitive explanations for these different functions.\n",
    "\n",
    "## Backward propagation\n",
    "After each forward propagation, you need a method to update the network parameters based on the loss function. Here, gradient descent is an iterative optimization algorithm, used to find the local optima. To\n",
    "find the local optima, we randomly select a point on the function and move in the direction of\n",
    "negative gradient until some stopping criteria are met (eg. loss doesn't change for a long time). To compute the gradient, you need to compute the derivative of the loss function over the network parameters (weights and biases). Mathmatically, the update equation for a general weight $W_{ij}^{t}$ abd bias $b_{i}^{t}$ is:\n",
    "<center>$W_{ij}^{t)} = W_{ij}^{t-1} - \t\\alpha * \\frac{\\sigma L_{f}}{\\sigma W_{ij}^{t-1}}$</center>\n",
    "<center>$b_{i}^{t} = b_{i}^{t-1} - \t\\alpha * \\frac{\\sigma L_{f}}{\\sigma b_{i}^{t-1}}$</center>\n",
    "\n",
    "where $\\alpha$ is the learning rate. \n",
    "\n",
    "## Let's Get Started! \n",
    "After knowing the math behind building the neural network, you will now start to put everything together, which includes initialization, the activation function, the loss function for forward pass, and gradient descent for backward propagation. At the end of Part 1, you will build a simple two-layer neural network from scratch and train your network to do digit classification."
   ]
  },
  {
   "cell_type": "markdown",
   "metadata": {
    "deletable": false,
    "editable": false,
    "nbgrader": {
     "checksum": "154c3f1d6c274e388df3afa338f2e9fa",
     "grade": false,
     "grade_id": "cell-e140164d871d99dc",
     "locked": true,
     "schema_version": 1,
     "solution": false
    }
   },
   "source": [
    "<a name=\"q1\"></a>\n",
    "## Network Initialization [ 0 pts]\n",
    "\n",
    "Initialization of network weights is one of the more important techniques for training network successfully. You might think about why you couldn't just directly initalize the weights with all zeros. The reason is because initializing all the parameters (weights and biases) in the network to zero will result in the output of every neuron\n",
    "become zero during the forward propagation, meaning that when you do the back\n",
    "propagation, you will get same gradient for all the parameters as you feed them with the\n",
    "same input. Hence, it is impossible for us to update our parameters and get closer and closer to the optimal solution.\n",
    "\n",
    "To properly handle initialization, you will use <a href=\"http://proceedings.mlr.press/v9/glorot10a/glorot10a.pdf\">Xavier initialization</a> - formula (16), where $Var[weight] = \\frac{2}{(n_{in} + n_{out})}$, where $n_{in}$ is the dimensionality of the input layer and $n_{out}$ is the dimensionality of the output layer. You will use a uniform distribution $weight \\sim U[-\\frac{\\sqrt 6}{\\sqrt (n_{in} + n_{out})}, \\frac{\\sqrt 6}{\\sqrt (n_{in} + n_{out})}]$to sample random numbers. The function is provided as follows. "
   ]
  },
  {
   "cell_type": "code",
   "execution_count": 2,
   "metadata": {},
   "outputs": [],
   "source": [
    "def initialize_weights(n_in, n_out, params, name=''):\n",
    "    \"\"\"\n",
    "    Xavier weight initialization\n",
    "    \n",
    "    :param n_in: input vector [dimension of input layer]\n",
    "    :param n_in: output vector [dimension of output layer]\n",
    "    :param params: a dictionary containing parameters\n",
    "    :param name: name of the layer\n",
    "    :return: None\n",
    "    \"\"\"\n",
    "    b = np.zeros(n_out)\n",
    "    n = n_in + n_out\n",
    "    l, u = -np.sqrt(6/n), np.sqrt(6/n)\n",
    "    W = np.random.uniform(l, u, (n_in, n_out))\n",
    "    \n",
    "    ## store parameters of the network\n",
    "    params['W' + name] = W\n",
    "    params['b' + name] = b"
   ]
  },
  {
   "cell_type": "markdown",
   "metadata": {
    "deletable": false,
    "editable": false,
    "nbgrader": {
     "checksum": "fb56796d76a57db87e874aff789dbe47",
     "grade": false,
     "grade_id": "cell-9d9cebf78bd05106",
     "locked": true,
     "schema_version": 1,
     "solution": false
    }
   },
   "source": [
    "<a name=\"q2\"></a>\n",
    "## Sigmoid Activation Function [ 10 pts]\n",
    "Now, you will move on implementing the forward propagation for your neural network, where you need to implement activation funtions. Activation functions are mathematical equations that determine the output of a neural network. The function is attached to each neuron in the network, and determines whether it should be activated or not, based on whether each neuron’s output is relevant for the model’s prediction. \n",
    "\n",
    "You want to implement the sigmoid activation function, along with forward propagation for a single layer with an activation function, namely $y = \\sigma (XW + b)$, returning the output and intermediate results for an $N \\times D$ dimension input $X$, with examples ($N$ dimension) along the rows, data dimensions ($D$ dimension) along the columns. For example, if our $X$ consists of 10 points under 2d coordinate representing by $(x, y)$, then $X$ will have dimension as 10 x 2 ($N=10, D=2$) \n",
    "If you visualize the sigmoid activation function, it will look like the figure below. Notice the range of the output is clamped between zero and one. "
   ]
  },
  {
   "cell_type": "code",
   "execution_count": 3,
   "metadata": {},
   "outputs": [
    {
     "data": {
      "image/png": "[encoded data removed]",
      "text/plain": [
       "<Figure size 432x288 with 1 Axes>"
      ]
     },
     "metadata": {
      "needs_background": "light"
     },
     "output_type": "display_data"
    }
   ],
   "source": [
    "#example of the sigmoid activation function appearance\n",
    "x = np.linspace(-10, 10, 100)\n",
    "y = 1/(1 + np.exp(-x))\n",
    "  \n",
    "plt.plot(x, y)\n",
    "plt.xlabel(\"input\")\n",
    "plt.ylabel(\"output = sigmoid(input)\")\n",
    "  \n",
    "plt.show()"
   ]
  },
  {
   "cell_type": "markdown",
   "metadata": {
    "deletable": false,
    "editable": false,
    "nbgrader": {
     "checksum": "d4218d77cc3f6f739389e5bbadf3ceba",
     "grade": false,
     "grade_id": "cell-ace632bbdb57b823",
     "locked": true,
     "schema_version": 1,
     "solution": false
    }
   },
   "source": [
    "Follow the math formula of sigmoid activation: \n",
    "<center>$\\sigma (x) = \\frac{1}{1 + exp(x)}$</center>\n",
    "\n",
    "to implement the following function with NumPy. You can call $np.exp(x)$ to express exponential function of $x$. "
   ]
  },
  {
   "cell_type": "code",
   "execution_count": 4,
   "metadata": {
    "deletable": false,
    "nbgrader": {
     "checksum": "03c12910ed7f458c2e9f635a0da56732",
     "grade": false,
     "grade_id": "cell-2fe40d375c495695",
     "locked": false,
     "schema_version": 1,
     "solution": true
    }
   },
   "outputs": [],
   "source": [
    "### GRADED\n",
    "### YOUR ANSWER BELOW\n",
    "\n",
    "### YOUR SOLUTION HERE\n",
    "import numpy as np\n",
    "def sigmoid(x):\n",
    "    \"\"\"\n",
    "    Sigmoid activation function\n",
    "\n",
    "\n",
    "    :param x: input 2d vectors (N x D), where N refers to number of data, \n",
    "        and D refers to number of dimension of each input data.\n",
    "    :return: sigmoid activation function.\n",
    "    \"\"\"\n",
    "    sigmoid = 1/(1+ np.exp(-x)) #to be implemented\n",
    "    return sigmoid\n",
    "\n",
    "# YOUR CODE HERE\n",
    "# raise NotImplementedError()"
   ]
  },
  {
   "cell_type": "code",
   "execution_count": null,
   "metadata": {
    "deletable": false,
    "editable": false,
    "nbgrader": {
     "checksum": "7d4d2959303e7ff565f0e569508dc44c",
     "grade": true,
     "grade_id": "cell-a9352f55d5817ca4",
     "locked": true,
     "points": 10,
     "schema_version": 1,
     "solution": false
    }
   },
   "outputs": [],
   "source": []
  },
  {
   "cell_type": "markdown",
   "metadata": {
    "deletable": false,
    "editable": false,
    "nbgrader": {
     "checksum": "a2e7ac4d1dccea0e82a502012bb419c4",
     "grade": false,
     "grade_id": "cell-6676dd6ff5f20b8d",
     "locked": true,
     "schema_version": 1,
     "solution": false
    }
   },
   "source": [
    "<a name=\"q3\"></a>\n",
    "## Softmax Function [ 15 pts]\n",
    "Since we are using neural networks for classification, a common output activation function\n",
    "to use for the last layer is the softmax function. This will allow us to turn the real value, possibly negative\n",
    "values into a set of probabilities (vector of positive numbers that sum to 1). Implement the softmax function, which is defined as below for each index $i$ in a vector $x$:\n",
    "<center>$\\text{softmax}(x_{i}) = \\frac{exp(x_{i})}{\\sum_{j}{exp(x_{j})}} $</center>\n",
    "\n",
    "\n",
    "Here, we usually add an offset $c = -max (x_{i})$ to the input $x_i$ to make sure the output of the numerator is within the range $(0, 1]$. If we don't apply any offset $c$, meaning that $c=0$ in this formula, then the output range of the numerator will be $(0, infinite]$, which might cause an overflow calculation. This trick utilizes the fact that softmax function is invariant to translation, that is:\n",
    "<center>$\\text{softmax}(x) = \\text{softmax}(x + c), \\forall c \\in \\mathbb{R} $</center>"
   ]
  },
  {
   "cell_type": "code",
   "execution_count": 5,
   "metadata": {
    "deletable": false,
    "nbgrader": {
     "checksum": "a49a417a9b77bced789b4c43ae2e8ee7",
     "grade": false,
     "grade_id": "cell-9db80528c9af83bc",
     "locked": false,
     "schema_version": 1,
     "solution": true
    }
   },
   "outputs": [],
   "source": [
    "### GRADED\n",
    "### YOUR ANSWER BELOW\n",
    "\n",
    "### YOUR SOLUTION HERE\n",
    "def softmax(x):\n",
    "    \"\"\"\n",
    "    Softmax activation function\n",
    "\n",
    "    :param x: input 2d vectors (N x C), where N refers to number of data, \n",
    "        and C refers to number of possible classes in the dataset.\n",
    "    :return: softmax activation function\n",
    "    \"\"\"\n",
    "    # remember to apply trick\n",
    "    offset_c = np.max(x, axis=1, keepdims=True)  # Get max value for each row and keep the dimension #to be implemented\n",
    "    exp_values = np.exp(x - offset_c)\n",
    "    exp_sums = np.sum(exp_values, axis=1, keepdims=True)\n",
    "    # softmax should be done for each row (data by data)\n",
    "    softmax = exp_values / exp_sums #to be implemented\n",
    "    \n",
    "    return softmax\n",
    "\n",
    "# YOUR CODE HERE\n",
    "# raise NotImplementedError()"
   ]
  },
  {
   "cell_type": "code",
   "execution_count": null,
   "metadata": {
    "deletable": false,
    "editable": false,
    "nbgrader": {
     "checksum": "9601cd180d61d43f204cd14c72798e2d",
     "grade": true,
     "grade_id": "cell-9ac07e0eba6cf95c",
     "locked": true,
     "points": 15,
     "schema_version": 1,
     "solution": false
    }
   },
   "outputs": [],
   "source": []
  },
  {
   "cell_type": "markdown",
   "metadata": {
    "deletable": false,
    "editable": false,
    "nbgrader": {
     "checksum": "c17a411a3b8b597af08a57b1c37132e1",
     "grade": false,
     "grade_id": "cell-ae6460ada354aefa",
     "locked": true,
     "schema_version": 1,
     "solution": false
    }
   },
   "source": [
    "<a name=\"q4\"></a>\n",
    "## Loss Function (Cross-Entropy)[ 15 pts]\n",
    "In this last part of the forward pass, you want to evaluate the prediction of the network with its ground truth labels. The loss function generally used for classification is the\n",
    "cross-entropy loss, which is defined as the following:\n",
    "<center>$L_{f}(D) = -\\sum_{(x, y)\\in D}{y \\cdot log(f{x})}$</center>\n",
    "\n",
    "\n",
    "where $D$ is the full training dataset of data samples $x (N \\times 1 $ vectors, $N =$ dimensionality of\n",
    "data) and labels $y (C \\times 1 $ one-hot vectors, $C = $number of classes).\n",
    "\n",
    "Also, you'll need to know the accuracy of the current performance, which is defined as the number of correct predictions over all predictions. That is, it's the proportion of correct predictions. "
   ]
  },
  {
   "cell_type": "code",
   "execution_count": 6,
   "metadata": {
    "deletable": false,
    "nbgrader": {
     "checksum": "a6e21cd2785dcbe10c3d040b4933b059",
     "grade": false,
     "grade_id": "cell-3303394ca034c70b",
     "locked": false,
     "schema_version": 1,
     "solution": true
    }
   },
   "outputs": [],
   "source": [
    "### GRADED\n",
    "### YOUR ANSWER BELOW\n",
    "\n",
    "### YOUR SOLUTION HERE\n",
    "def compute_loss_and_acc(y, probs):\n",
    "    \"\"\"\n",
    "    Cross entropy loss and accuracy \n",
    "\n",
    "    :param y: ground truth labels. 2d vectors (N x C), where N refers to number of data, \n",
    "        and C refers to number of possible classes in the dataset.\n",
    "    :param probs: prediction from netowkr output. 2d vectors (N x C), where N refers \n",
    "        to number of data, and C refers to number of possible classes in the dataset.\n",
    "    :return: loss and accuracy of the prediction.\n",
    "    \"\"\"\n",
    "    loss = -np.sum(y * np.log(probs))    \n",
    "    if len(probs.shape) < 2:\n",
    "        probs = np.array([probs])\n",
    "    if len(y.shape) < 2:\n",
    "        y = np.array([y])\n",
    "    acc = np.mean(np.argmax(probs ,axis=1) == np.argmax(y, axis=1))\n",
    "    return loss, acc\n",
    "\n",
    "# YOUR CODE HERE\n",
    "# raise NotImplementedError()"
   ]
  },
  {
   "cell_type": "code",
   "execution_count": null,
   "metadata": {
    "deletable": false,
    "editable": false,
    "nbgrader": {
     "checksum": "37062203d3c562cd49c9b8bca02a20ae",
     "grade": true,
     "grade_id": "cell-191558d10a69ad54",
     "locked": true,
     "points": 15,
     "schema_version": 1,
     "solution": false
    }
   },
   "outputs": [],
   "source": []
  },
  {
   "cell_type": "markdown",
   "metadata": {
    "deletable": false,
    "editable": false,
    "nbgrader": {
     "checksum": "413ea123c7044339a3840f46f30f2fcf",
     "grade": false,
     "grade_id": "cell-3f9da92703220b7e",
     "locked": true,
     "schema_version": 1,
     "solution": false
    }
   },
   "source": [
    "<a name=\"q5\"></a>\n",
    "## Forward Propagation[ 20 pts]\n",
    "You now have all the components needed for computing the forward pass, which should be as follows:\n",
    "\n",
    "1. Input ($X$) $\\rightarrow$ \n",
    "2. Linear Layer* ($Y = XW + B$) $\\rightarrow$ \n",
    "3. Activation Layer* ($Y = \\sigma (XW + b)$) $\\rightarrow$ \n",
    "4. Loop through Linear Layer (step 2) then Activation layer (step 3) $\\rightarrow$ \n",
    "5. Output Layer (softmax) $\\rightarrow$ \n",
    "6. Compute Loss and Accuracy \n",
    "\n",
    "*Here, you'll want to modularize the \"Linear Layer ($Y = XW + B$) $\\rightarrow$ Activation Layer ($y = \\sigma (XW + b)$)\" part so you can reuse it. \n",
    "\n",
    "Please note the use of the `name` argument which is used for clarification to label the layers. "
   ]
  },
  {
   "cell_type": "code",
   "execution_count": 7,
   "metadata": {
    "deletable": false,
    "nbgrader": {
     "checksum": "e1721572d0060e130e17c0fdaa51a0e3",
     "grade": false,
     "grade_id": "cell-ff796a0da38efdb1",
     "locked": false,
     "schema_version": 1,
     "solution": true
    }
   },
   "outputs": [],
   "source": [
    "### GRADED\n",
    "### YOUR ANSWER BELOW\n",
    "\n",
    "### YOUR SOLUTION HERE\n",
    "def forward(X, params, name='', activation=sigmoid):\n",
    "    \"\"\"\n",
    "    Do a forward pass\n",
    "\n",
    "    :param X: 2d input vector(N x D), where N refers to number of data, \n",
    "        and D refers to number of dimension of each input data.\n",
    "    :param params: a dictionary containing parameters\n",
    "    :param name: name of the layer\n",
    "    :param activation: the activation function (default is sigmoid)\n",
    "    :return: 2d vector after pre-activation and post-activation.\n",
    "    \"\"\"\n",
    "    \n",
    "#     pre_act, post_act = None, None\n",
    "    \n",
    "    # get the layer parameters\n",
    "    W = params['W' + name]\n",
    "    b = params['b' + name]\n",
    "    \n",
    "    pre_act = np.matmul(X, W) + b\n",
    "    post_act = activation(pre_act)\n",
    "    ###############################\n",
    "    ##### Your Implementation #####\n",
    "    ###############################\n",
    "    \n",
    "#     pre_act = None # Linear Layer (Y = WX + B), to be implemented\n",
    "    \n",
    "    # Try to utilize the function implemented before\n",
    "#     post_act = None # Activation Layer (sigmoid), to be implemented\n",
    "\n",
    "    # store the pre-activation and post-activation values\n",
    "    # these will be important in backprop\n",
    "    params['cache_' + name] = (X, pre_act, post_act)\n",
    "    \n",
    "    return post_act\n",
    "\n",
    "# YOUR CODE HERE\n",
    "# raise NotImplementedError()"
   ]
  },
  {
   "cell_type": "code",
   "execution_count": null,
   "metadata": {
    "deletable": false,
    "editable": false,
    "nbgrader": {
     "checksum": "4c4f342f5182056a394b0129177d0c29",
     "grade": true,
     "grade_id": "cell-097bffc41ec1425f",
     "locked": true,
     "points": 20,
     "schema_version": 1,
     "solution": false
    }
   },
   "outputs": [],
   "source": []
  },
  {
   "cell_type": "markdown",
   "metadata": {
    "deletable": false,
    "editable": false,
    "nbgrader": {
     "checksum": "941ef02c7a1d40813935098d00f48204",
     "grade": false,
     "grade_id": "cell-728268f938c1eb58",
     "locked": true,
     "schema_version": 1,
     "solution": false
    }
   },
   "source": [
    "<a name=\"q6\"></a>\n",
    "## Gradient Computation[ 20 pts]\n",
    "\n",
    "After finishing the forward pass, now we can look closer into the backward pass, which will help optimize the netowrk by updating its parameters (weights and biases). Given an neural network and a loss function, backward proporgation calculates the gradient of the loss function with respect to the neural network's weights. For each non-linear function (eg. $Y=XW + b$), the derivative will just be 1 no matter what is the input, as the linear function is a line with constant slope = 1. For non-linear function, we need to compute the derivative manually however. In this assignment, we will only need to look into the derivative of sigmoid function, which can be derived as seen on [this page](https://math.stackexchange.com/questions/78575/derivative-of-sigmoid-function-sigma-x-frac11e-x).\n",
    "\n",
    "Try to compute it again yourself, and implement the function below according to the formula.\n"
   ]
  },
  {
   "cell_type": "markdown",
   "metadata": {
    "deletable": false,
    "editable": false,
    "nbgrader": {
     "checksum": "dabd1601cd21c2d914db931074fe0253",
     "grade": false,
     "grade_id": "cell-46b0e91c61e69ac2",
     "locked": true,
     "schema_version": 1,
     "solution": false
    }
   },
   "source": [
    "### First derivative of a linear function [ 10 pts]"
   ]
  },
  {
   "cell_type": "code",
   "execution_count": 8,
   "metadata": {
    "deletable": false,
    "nbgrader": {
     "checksum": "f0da4714465fc8c34736e0ece47ee052",
     "grade": false,
     "grade_id": "cell-22ea229cc8906167",
     "locked": false,
     "schema_version": 1,
     "solution": true
    }
   },
   "outputs": [],
   "source": [
    "### GRADED\n",
    "### YOUR ANSWER BELOW\n",
    "\n",
    "### YOUR SOLUTION HERE\n",
    "\n",
    "def linear_deriv(post_act):\n",
    "    \"\"\"\n",
    "    First derivative of linear function\n",
    "\n",
    "    :param post_act: activation function which we want to find it first derivative\n",
    "    :return: first derivative of linear function\n",
    "    \"\"\"\n",
    "    gradient = np.ones_like(post_act) #to be implemented\n",
    "    \n",
    "    return gradient\n",
    "\n",
    "# YOUR CODE HERE\n",
    "# raise NotImplementedError()"
   ]
  },
  {
   "cell_type": "code",
   "execution_count": null,
   "metadata": {
    "deletable": false,
    "editable": false,
    "nbgrader": {
     "checksum": "ddfc1afba96a9bd22b4d6ddcd2c69f96",
     "grade": true,
     "grade_id": "cell-d900ffff767e0d50",
     "locked": true,
     "points": 10,
     "schema_version": 1,
     "solution": false
    }
   },
   "outputs": [],
   "source": []
  },
  {
   "cell_type": "markdown",
   "metadata": {
    "deletable": false,
    "editable": false,
    "nbgrader": {
     "checksum": "42212aee332534d885f08e54de229c66",
     "grade": false,
     "grade_id": "cell-02b17961b527d027",
     "locked": true,
     "schema_version": 1,
     "solution": false
    }
   },
   "source": [
    "### First derivative of a sigmoid function [ 10 pts]"
   ]
  },
  {
   "cell_type": "code",
   "execution_count": 9,
   "metadata": {
    "deletable": false,
    "nbgrader": {
     "checksum": "a08a62e1ea32572efd0c78b128dfe705",
     "grade": false,
     "grade_id": "cell-b05ab5df50b335d7",
     "locked": false,
     "schema_version": 1,
     "solution": true
    }
   },
   "outputs": [],
   "source": [
    "### GRADED\n",
    "### YOUR ANSWER BELOW\n",
    "\n",
    "### YOUR SOLUTION HERE\n",
    "def sigmoid_deriv(post_act):\n",
    "    \"\"\"\n",
    "    First derivative of sigmoid function\n",
    "\n",
    "    :param post_act: activation function which we want to find it first derivative\n",
    "    :return: first derivative of sigmoid function\n",
    "    \"\"\"\n",
    "    gradient = post_act*(1.0-post_act) #to be implemented\n",
    "    \n",
    "    return gradient\n",
    "\n",
    "# YOUR CODE HERE\n",
    "# raise NotImplementedError()"
   ]
  },
  {
   "cell_type": "code",
   "execution_count": null,
   "metadata": {
    "deletable": false,
    "editable": false,
    "nbgrader": {
     "checksum": "d2a453b0de87fbbaf7e528fa568fb2d2",
     "grade": true,
     "grade_id": "cell-4b178d926df6667a",
     "locked": true,
     "points": 10,
     "schema_version": 1,
     "solution": false
    }
   },
   "outputs": [],
   "source": []
  },
  {
   "cell_type": "markdown",
   "metadata": {
    "deletable": false,
    "editable": false,
    "nbgrader": {
     "checksum": "d5219ae4a09711343d7abc71d90f42ad",
     "grade": false,
     "grade_id": "cell-cd6b922c739c11af",
     "locked": true,
     "schema_version": 1,
     "solution": false
    }
   },
   "source": [
    "<a name=\"q7\"></a>\n",
    "## Backward Propagation[ 0 pts]\n",
    "You now have all the components necessary for computing the backward pass. You can apply the chain rule to backpropagate the gradient from the output to the input. \n",
    "\n",
    "Combining the gradient computation from before along with the update equation for a general weight $W_{ij}^{t}$ and bias $b_{i}^{t}$ yields:\n",
    "<center>$W_{ij}^{t)} = W_{ij}^{t-1} - \t\\alpha * \\frac{\\sigma L_{f}}{\\sigma W_{ij}^{t-1}}$</center>\n",
    "<center>$b_{i}^{t} = b_{i}^{t-1} - \t\\alpha * \\frac{\\sigma L_{f}}{\\sigma b_{i}^{t-1}}$</center>  "
   ]
  },
  {
   "cell_type": "code",
   "execution_count": 10,
   "metadata": {},
   "outputs": [],
   "source": [
    "def backwards(delta, params, name='', activation_deriv=sigmoid_deriv):\n",
    "    \"\"\"\n",
    "    Do a backwards pass\n",
    "\n",
    "    :param delta: errors to backprop #derivative loss\n",
    "    :param params: a dictionary containing parameters\n",
    "    :param name: name of the layer\n",
    "    :param activation_deriv: the derivative of the activation_func\n",
    "    :return: 2d vector after back proporgation\n",
    "    \"\"\"\n",
    "    W = params['W' + name]\n",
    "    b = params['b' + name]\n",
    "    X, pre_act, post_act = params['cache_' + name]\n",
    "\n",
    "    # do the derivative through activation first\n",
    "    # then compute the derivative W,b, and X\n",
    "    # grad_X: num data*insize, grad_W: insize*outsize, grad_b: outsize\n",
    "    grad_X, grad_W, grad_b = np.zeros(X.shape), np.zeros(W.shape), np.zeros(b.shape)\n",
    "    delta_post = delta*activation_deriv(post_act)\n",
    "    for i in range(X.shape[0]):\n",
    "        grad_W += np.matmul(np.expand_dims(X[i,:], axis=1), np.expand_dims(delta_post[i,:], axis=0))\n",
    "        grad_X[i,:] = np.matmul(W,delta_post[i,:])\n",
    "        grad_b += delta_post[i,:]\n",
    "        \n",
    "    # store the gradients\n",
    "    params['grad_W' + name] = grad_W\n",
    "    params['grad_b' + name] = grad_b\n",
    "    return grad_X"
   ]
  },
  {
   "cell_type": "markdown",
   "metadata": {
    "deletable": false,
    "editable": false,
    "nbgrader": {
     "checksum": "c6fc652d49306061388465f295836cf4",
     "grade": false,
     "grade_id": "cell-9b1ce6ce0b8b4adb",
     "locked": true,
     "schema_version": 1,
     "solution": false
    }
   },
   "source": [
    "<a name=\"q8\"></a>\n",
    "## Train Models with NIST [ 20 pts]\n",
    "You'll now test your model on the [NIST dataset](https://www.nist.gov/srd/nist-special-database-19) for hand-written digit classification. You'll need a training loop and a testing loop to put the forward pass and the backprop together for your two-layer network. \n",
    "\n",
    "The dimensions of each input image are 32 x 32 pixels. The image values are organized as a single 1024-dimensional vector which is multiplied by W(1). Because of this, each row of W(1) is a weight. The rows of W(1) can be reshaped into a 32 x 32 image in order to suggest to which types of images each hidden unit is sensitive.\n",
    "\n",
    "You are provided with three data `.mat` files to use for this section. \n",
    "\n",
    "The data in `nist36 train.mat` represent samples for each of the 26 upper-case letters of the alphabet and the 10 digits. You can use this set to train your network.\n",
    "\n",
    "The validation set in `nist36 valid.mat` contains samples from each class and should be used in the training loop to validate how well the network is performing on data on which it is not in the training set. This will help to identify [overfitting](https://en.wikipedia.org/wiki/Overfitting). \n",
    "\n",
    "The data in `nist36 test.mat` should be used for the final evaluation on your best model to see how well it will generalize to new unseen data.\n",
    "\n",
    "The following sections will go step-by-step describing how to implement the training and testing loops. At the end of this question, you will be able to visualize what your network learned. "
   ]
  },
  {
   "cell_type": "markdown",
   "metadata": {
    "deletable": false,
    "editable": false,
    "nbgrader": {
     "checksum": "285610b97b75eca24689b04e2d4f8371",
     "grade": false,
     "grade_id": "cell-89d11c20941aa132",
     "locked": true,
     "schema_version": 1,
     "solution": false
    }
   },
   "source": [
    "First, load your data. "
   ]
  },
  {
   "cell_type": "code",
   "execution_count": 11,
   "metadata": {},
   "outputs": [],
   "source": [
    "## load data\n",
    "train_data = scipy.io.loadmat('data/nist36_train.mat')\n",
    "valid_data = scipy.io.loadmat('data/nist36_valid.mat')\n",
    "test_data = scipy.io.loadmat('data/nist36_test.mat')\n",
    "\n",
    "train_x, train_y = train_data['train_data'], train_data['train_labels']\n",
    "valid_x, valid_y = valid_data['valid_data'], valid_data['valid_labels']\n",
    "test_x, test_y = test_data['test_data'], test_data['test_labels']"
   ]
  },
  {
   "cell_type": "markdown",
   "metadata": {
    "deletable": false,
    "editable": false,
    "nbgrader": {
     "checksum": "fcf365214126426cec17094e8bf3f338",
     "grade": false,
     "grade_id": "cell-3ab5c03e56dd5b77",
     "locked": true,
     "schema_version": 1,
     "solution": false
    }
   },
   "source": [
    "Next, initialize your hyperparameters."
   ]
  },
  {
   "cell_type": "code",
   "execution_count": 12,
   "metadata": {},
   "outputs": [],
   "source": [
    "## Hyper-parameters for training loop, you can play with this number to see how it affects the network performance\n",
    "## number of max training iterations, batch size, learning rate, hidden layer size\n",
    "max_iters = 50\n",
    "batch_size = 32\n",
    "learning_rate = 9e-3\n",
    "hidden_size = 64"
   ]
  },
  {
   "cell_type": "markdown",
   "metadata": {
    "deletable": false,
    "editable": false,
    "nbgrader": {
     "checksum": "ed1715ea0ef59ebd6185bd64b5e4fe21",
     "grade": false,
     "grade_id": "cell-562a7a2180973d71",
     "locked": true,
     "schema_version": 1,
     "solution": false
    }
   },
   "source": [
    "Then, split your data into batches. "
   ]
  },
  {
   "cell_type": "code",
   "execution_count": 13,
   "metadata": {},
   "outputs": [],
   "source": [
    "## Split x and y into random batches, constructing a list of [(batch1_x,batch1_y)...]\n",
    "index = np.arange(train_x.shape[0])\n",
    "np.random.shuffle(index)\n",
    "\n",
    "batches = [(train_x[index[i:i+batch_size]], train_y[index[i:i+batch_size]]) for i in range(0, train_x.shape[0], batch_size)]\n",
    "batch_num = len(batches)\n",
    "\n",
    "## A dictionary containing parameters of network\n",
    "params = {}"
   ]
  },
  {
   "cell_type": "markdown",
   "metadata": {
    "deletable": false,
    "editable": false,
    "nbgrader": {
     "checksum": "2c891782dc7fe9f697ccd32aac290994",
     "grade": false,
     "grade_id": "cell-b58b9733cacb5635",
     "locked": true,
     "schema_version": 1,
     "solution": false
    }
   },
   "source": [
    "### Now, initialize your network layers [ 5 pts]. "
   ]
  },
  {
   "cell_type": "code",
   "execution_count": 14,
   "metadata": {
    "deletable": false,
    "nbgrader": {
     "checksum": "07708d1a2dcb97487e8c471ab877aba8",
     "grade": false,
     "grade_id": "cell-0bc63256435f7cdd",
     "locked": false,
     "schema_version": 1,
     "solution": true
    }
   },
   "outputs": [],
   "source": [
    "### GRADED\n",
    "### YOUR ANSWER BELOW\n",
    "\n",
    "### YOUR SOLUTION HERE\n",
    "## initialize layers here \n",
    "input_size = 1024                                 #to be implemented\n",
    "output_size = 36                                #to be implemented\n",
    "initialize_weights(input_size, hidden_size, params, 'layer1')  #to be implemented\n",
    "initialize_weights(hidden_size,output_size, params, 'output') #to be implemented\n",
    "\n",
    "# YOUR CODE HERE\n",
    "# raise NotImplementedError()"
   ]
  },
  {
   "cell_type": "code",
   "execution_count": null,
   "metadata": {
    "deletable": false,
    "editable": false,
    "nbgrader": {
     "checksum": "340e198a32bc2cd6bcea24d5d302508b",
     "grade": true,
     "grade_id": "cell-b05f9f3c0d968b5a",
     "locked": true,
     "points": 5,
     "schema_version": 1,
     "solution": false
    }
   },
   "outputs": [],
   "source": []
  },
  {
   "cell_type": "markdown",
   "metadata": {
    "deletable": false,
    "editable": false,
    "nbgrader": {
     "checksum": "673952616dc79be3f4ad3b6143296eeb",
     "grade": false,
     "grade_id": "cell-eff8b2ac64285e9d",
     "locked": true,
     "schema_version": 1,
     "solution": false
    }
   },
   "source": [
    "### In this cell, run your training loop [ 10 pts]. \n",
    "This might take a little while to run. You should see both training and validation data for each of the `max_iters` you set up earlier. With `max_iters=50`, you'll see 100 rows of data from this cell. Note: it's recommended to maintain the same `Name` argument you used in the earlier \"initialize weights\" part or you may get an error."
   ]
  },
  {
   "cell_type": "code",
   "execution_count": null,
   "metadata": {
    "deletable": false,
    "nbgrader": {
     "checksum": "48a3c155c2005fa6155fe3cedfce1abe",
     "grade": false,
     "grade_id": "cell-030e19866bc85425",
     "locked": false,
     "schema_version": 1,
     "solution": true
    }
   },
   "outputs": [
    {
     "name": "stdout",
     "output_type": "stream",
     "text": [
      "training>> itr: 00 \t loss: 3.03 \t acc : 0.18\n",
      "validation>> itr: 00 \t loss: 2.22 \t acc : 0.45\n",
      "training>> itr: 02 \t loss: 1.53 \t acc : 0.57\n",
      "validation>> itr: 02 \t loss: 1.37 \t acc : 0.62\n",
      "training>> itr: 04 \t loss: 1.18 \t acc : 0.67\n",
      "validation>> itr: 04 \t loss: 1.21 \t acc : 0.65\n",
      "training>> itr: 06 \t loss: 1.02 \t acc : 0.71\n",
      "validation>> itr: 06 \t loss: 1.11 \t acc : 0.68\n"
     ]
    }
   ],
   "source": [
    "### GRADED\n",
    "### YOUR ANSWER BELOW\n",
    "\n",
    "### YOUR SOLUTION HERE\n",
    "train_acc_list, valid_acc_list, train_loss_list,valid_loss_list = [], [], [], []\n",
    "\n",
    "# # with default settings, you should get loss < 0.5 and accuracy > 80%\n",
    "for itr in range(max_iters):\n",
    "    \n",
    "    total_loss = 0\n",
    "    total_acc = 0\n",
    "    \n",
    "    for xb,yb in batches:  \n",
    "        ## training loop\n",
    "        # forward\n",
    "        out = forward(xb,params,'layer1')   #to be implemented\n",
    "        probs = forward(out,params,'output',softmax) #to be implemented\n",
    "\n",
    "        # loss\n",
    "        # be sure to add loss and accuracy to epoch totals\n",
    "        loss, acc = compute_loss_and_acc(yb, probs) #to be implemented\n",
    "        \n",
    "        # backward\n",
    "        delta = probs\n",
    "        y_idx = np.argmax(yb, axis=1)\n",
    "        delta[np.arange(probs.shape[0]),y_idx] -= 1\n",
    "        delta = backwards(delta, params, 'output', linear_deriv) #to be implemented\n",
    "        delta = backwards(delta, params, 'layer1', sigmoid_deriv) #to be implemented\n",
    "       \n",
    "        # apply gradient\n",
    "        for k,v in sorted(list(params.items())):\n",
    "            if 'grad' in k:\n",
    "                name = k.split('_')[1]\n",
    "                params[name] -= learning_rate*v\n",
    "\n",
    "        total_loss += loss\n",
    "        total_acc += acc\n",
    "    \n",
    "    total_loss /= train_x.shape[0]\n",
    "    total_acc /= len(batches)\n",
    "    \n",
    "    ## validation loop\n",
    "    out = forward(valid_x,params,'layer1')   #to be implemented\n",
    "    probs = forward(out,params,'output',softmax) #to be implemented\n",
    "    \n",
    "    valid_loss,valid_acc = compute_loss_and_acc(valid_y,probs) #to be implemented\n",
    "    valid_loss /= valid_x.shape[0]\n",
    "\n",
    "    train_acc_list.append(total_acc)\n",
    "    valid_acc_list.append(valid_acc)\n",
    "    train_loss_list.append(total_loss)\n",
    "    valid_loss_list.append(valid_loss)\n",
    "    if itr % 2 == 0 or itr == max_iters - 1:\n",
    "        print(\"training>> itr: {:02d} \\t loss: {:.2f} \\t acc : {:.2f}\".format(itr,total_loss,total_acc))\n",
    "        print(\"validation>> itr: {:02d} \\t loss: {:.2f} \\t acc : {:.2f}\".format(itr,valid_loss,valid_acc))\n",
    "    if itr == 20 or itr == 40:\n",
    "        learning_rate /= 10.\n",
    "\n",
    "\n",
    "# YOUR CODE HERE\n",
    "# raise NotImplementedError()"
   ]
  },
  {
   "cell_type": "code",
   "execution_count": null,
   "metadata": {
    "deletable": false,
    "editable": false,
    "nbgrader": {
     "checksum": "d91adda164846cd8e20583381641eaa8",
     "grade": true,
     "grade_id": "cell-dfbe35a3124bfc54",
     "locked": true,
     "points": 10,
     "schema_version": 1,
     "solution": false
    }
   },
   "outputs": [],
   "source": []
  },
  {
   "cell_type": "markdown",
   "metadata": {
    "deletable": false,
    "editable": false,
    "nbgrader": {
     "checksum": "fa4b382ce73263b9f2ae4c106f11c457",
     "grade": false,
     "grade_id": "cell-e3324bf039134bd5",
     "locked": true,
     "schema_version": 1,
     "solution": false
    }
   },
   "source": [
    "You should visualize that data you just produced to see the trend for the training and validation accuracy and loss. Think about how these curves should look and then check your results in the plots. "
   ]
  },
  {
   "cell_type": "code",
   "execution_count": null,
   "metadata": {},
   "outputs": [],
   "source": [
    "## plot the accuracy and loss along the iterations for both training and validaition set\n",
    "x = np.arange(max_iters)\n",
    "plt.rcParams[\"figure.figsize\"] = (8, 8)\n",
    "plt.plot(x, train_acc_list, linewidth = 2, label = \"Training Accuracy\")\n",
    "plt.plot(x, valid_acc_list, linewidth = 2, label = \"Validation Accuracy\")\n",
    "plt.legend()\n",
    "plt.show()\n",
    "\n",
    "plt.plot(x, train_loss_list, linewidth = 2, label = \"Training Loss\")\n",
    "plt.plot(x, valid_loss_list, linewidth = 2, label = \"Validation Loss\")\n",
    "plt.legend()\n",
    "plt.show()"
   ]
  },
  {
   "cell_type": "markdown",
   "metadata": {
    "deletable": false,
    "editable": false,
    "nbgrader": {
     "checksum": "d932b63530ef4cdf1cea99a36668bb23",
     "grade": false,
     "grade_id": "cell-63eeacd4e7ccbc57",
     "locked": true,
     "schema_version": 1,
     "solution": false
    }
   },
   "source": [
    "### Now take a look at the accuracy [ 5 pts]. \n",
    "This should be a relatively high number if your model is working well! "
   ]
  },
  {
   "cell_type": "code",
   "execution_count": null,
   "metadata": {
    "deletable": false,
    "nbgrader": {
     "checksum": "e1926274af6fc6cdc1b501d64e2f293a",
     "grade": false,
     "grade_id": "cell-4ff4bbd5d26d733f",
     "locked": false,
     "schema_version": 1,
     "solution": true
    }
   },
   "outputs": [],
   "source": [
    "### GRADED\n",
    "### YOUR ANSWER BELOW\n",
    "\n",
    "### YOUR SOLUTION HERE\n",
    "## run on validation set and report accuracy! should be above 75%\n",
    "\n",
    "out = forward(valid_x, params, 'layer1')                               #to be implemented\n",
    "probs = forward(out, params, 'output', softmax)                             #to be implemented\n",
    "valid_loss, valid_acc = compute_loss_and_acc(valid_y, probs)      #to be implemented\n",
    "print('Validation accuracy: ',valid_acc)\n",
    "\n",
    "outt = forward(test_x, params, 'layer1')                              #to be implemented\n",
    "probst = forward(outt, params, 'output', softmax)                            #to be implemented\n",
    "test_loss, test_acc = None, None         #to be implemented\n",
    "print('Test accuracy: ',test_acc)\n",
    "\n",
    "# YOUR CODE HERE\n",
    "raise NotImplementedError()"
   ]
  },
  {
   "cell_type": "code",
   "execution_count": null,
   "metadata": {
    "deletable": false,
    "editable": false,
    "nbgrader": {
     "checksum": "fb3a9e8316786aa2f7a1f527031a9113",
     "grade": true,
     "grade_id": "cell-d28c8cdf48449ea1",
     "locked": true,
     "points": 5,
     "schema_version": 1,
     "solution": false
    }
   },
   "outputs": [],
   "source": []
  },
  {
   "cell_type": "markdown",
   "metadata": {
    "deletable": false,
    "editable": false,
    "nbgrader": {
     "checksum": "0f1ea6bee1366a5de70fe7225326d7f9",
     "grade": false,
     "grade_id": "cell-f635b3120caf2ba1",
     "locked": true,
     "schema_version": 1,
     "solution": false
    }
   },
   "source": [
    "## Visualize the network\n",
    "Now you'll see what your network learned when it passes through different layers. Since your network is a simple two-layer network with only one hidden layer and an output layer, you can visualize the weights of network (1) right after initialization (2) from the hidden layer (3) from the output layer. Run the code below and try to describe what you discover! Does this visualization look organized to you?  "
   ]
  },
  {
   "cell_type": "code",
   "execution_count": null,
   "metadata": {},
   "outputs": [],
   "source": [
    "## visualization of weights immediately after initialization\n",
    "new_params = {}\n",
    "initialize_weights(input_size, hidden_size, new_params,'layer1')\n",
    "initialize_weights(hidden_size, output_size, new_params,'output')\n",
    "\n",
    "fig = plt.figure(1, (15., 15.))\n",
    "if hidden_size < 128:\n",
    "    grid = ImageGrid(fig, 111,  # similar to subplot(111)\n",
    "                     nrows_ncols=(8, 8),  # creates 2x2 grid of axes\n",
    "                     axes_pad=0.1,  # pad between axes in inch.\n",
    "                     )\n",
    "    img_w = new_params['Wlayer1'].reshape((32,32,hidden_size))\n",
    "    for i in range(hidden_size):\n",
    "        grid[i].imshow(img_w[:,:,i])  # The AxesGrid object work as a list of axes.\n",
    "\n",
    "plt.show()"
   ]
  },
  {
   "cell_type": "markdown",
   "metadata": {
    "deletable": false,
    "editable": false,
    "nbgrader": {
     "checksum": "642a55ab91d95810a24409d80efc0a48",
     "grade": false,
     "grade_id": "cell-0f44ac359e3d3722",
     "locked": true,
     "schema_version": 1,
     "solution": false
    }
   },
   "source": [
    "Do another visualization using the output of the first layer. Does this look different to you? How so? "
   ]
  },
  {
   "cell_type": "code",
   "execution_count": null,
   "metadata": {},
   "outputs": [],
   "source": [
    "## visualization of first layer \n",
    "fig = plt.figure(1, (15., 15.))\n",
    "if hidden_size < 128:\n",
    "    grid = ImageGrid(fig, 111,  # similar to subplot(111)\n",
    "                    nrows_ncols=(8, 8),  # creates 2x2 grid of axes\n",
    "                    axes_pad=0.1,  # pad between axes in inch.\n",
    "                    )\n",
    "    img_w = params['Wlayer1'].reshape((32,32,hidden_size))\n",
    "    for i in range(hidden_size):\n",
    "        grid[i].imshow(img_w[:,:,i])  # The AxesGrid object work as a list of axes.\n",
    "\n",
    "    plt.show()"
   ]
  },
  {
   "cell_type": "markdown",
   "metadata": {
    "deletable": false,
    "editable": false,
    "nbgrader": {
     "checksum": "a717b6cabc5a48727ee0312779d39a52",
     "grade": false,
     "grade_id": "cell-34cb54bb73363540",
     "locked": true,
     "schema_version": 1,
     "solution": false
    }
   },
   "source": [
    "Now visualize the results of the output layer and compare the resulting plots to the ground truth images. How do these images look to you? "
   ]
  },
  {
   "cell_type": "code",
   "execution_count": null,
   "metadata": {},
   "outputs": [],
   "source": [
    "## visulization of output layer \n",
    "## compare the ground truth and the prediction\n",
    "## do these learned plots seem to resemble the ground truth in any way?\n",
    "fig = plt.figure(1, (12., 16.))\n",
    "grid = ImageGrid(fig, 111,  # similar to subplot(111)\n",
    "                 nrows_ncols=(12, 6),  # creates 2x2 grid of axes\n",
    "                 axes_pad=0.1,  # pad between axes in inch.\n",
    "                 )\n",
    "\n",
    "indices = params['cache_output'][2].argmax(axis=0)\n",
    "images = valid_x[indices]\n",
    "images = images.reshape(36, 32, 32)\n",
    "\n",
    "vis = np.zeros((36, 1024))\n",
    "inps = np.eye(36)\n",
    "for i,inp in enumerate(inps):\n",
    "    vis[i] = inp @ params['Woutput'].T @ params['Wlayer1'].T \n",
    "vis = vis.reshape(36, 32, 32)\n",
    "\n",
    "displayed = np.zeros((72, 32, 32))\n",
    "displayed[::2] = images\n",
    "displayed[1::2] = vis\n",
    "for ax, im in zip(grid, displayed):\n",
    "    ax.imshow(im.T)\n",
    "plt.show()"
   ]
  },
  {
   "cell_type": "markdown",
   "metadata": {
    "deletable": false,
    "editable": false,
    "nbgrader": {
     "checksum": "0a142230d9c1ae1f8102b53ba3bdf70f",
     "grade": false,
     "grade_id": "cell-b80bc9819218770f",
     "locked": true,
     "schema_version": 1,
     "solution": false
    }
   },
   "source": [
    "## Confusion Matrix\n",
    "A confusion matrix is a technique for summarizing the performance of a classification algorithm. The number of correct and incorrect predictions are summarized with count values and broken down by each class. This is the key to the confusion matrix.The confusion matrix shows the ways in which your classification model is confused when it makes predictions, and can tell you from where the model frequently make mistakes.\n",
    "\n",
    "Run the following code and point out a few pairs of classes that are most commonly confused. These will appear as highlighted regions or spots in the triangles of the plot. "
   ]
  },
  {
   "cell_type": "code",
   "execution_count": null,
   "metadata": {},
   "outputs": [],
   "source": [
    "confusion_matrix = np.zeros((train_y.shape[1],train_y.shape[1]))\n",
    "# compute confusion matrix here\n",
    "real=np.argmax(valid_y,axis=1)\n",
    "prediction=np.argmax(probs ,axis=1)\n",
    "for r,p in zip(real,prediction):\n",
    "    confusion_matrix[r][p]+=1\n",
    "\n",
    "import string\n",
    "plt.rcParams[\"figure.figsize\"] = (12, 12)\n",
    "plt.imshow(confusion_matrix,interpolation='nearest')\n",
    "plt.grid(True)\n",
    "plt.xticks(np.arange(36),string.ascii_uppercase[:26] + ''.join([str(_) for _ in range(10)]))\n",
    "plt.yticks(np.arange(36),string.ascii_uppercase[:26] + ''.join([str(_) for _ in range(10)]))\n",
    "plt.show()"
   ]
  },
  {
   "cell_type": "markdown",
   "metadata": {
    "deletable": false,
    "editable": false,
    "nbgrader": {
     "checksum": "56ba68bb2e969122778ae557d05e2ca9",
     "grade": false,
     "grade_id": "cell-e7d837a9864a6ae2",
     "locked": true,
     "schema_version": 1,
     "solution": false
    }
   },
   "source": [
    "<a name=\"part-2\"></a>\n",
    "# Part 2: PyTorch for Digit Classification [ 0 pts]\n",
    "\n",
    "While you were able to derive manual back-propagation rules for sigmoid and fully-connected layers, wouldn’t it be nice if someone did that for lots of useful primatives and made it fast and easy to use for general computation? Meet <a url='https://en.wikipedia.org/wiki/Automatic_differentiation'>automatic differentiation</a>. \n",
    "\n",
    "Since you have high-dimensional inputs (images) and low-dimensional outputs (a scalar loss), it turns out forward mode AD is very efficient. Popular AD packages include <a url='https://pytorch.org/'>PyTorch</a> (Facebook) and <a url=\"https://www.tensorflow.org/\"> Tensorflow</a> (Google). Autograd provides its own replacement for NumPy operators and is a drop-in replacement for NumPy, except you can ask for gradients now. The other two are able to act as shim layers for <a url=\"https://developer.nvidia.com/cudnn\">cuDNN</a>, an implementation of AD made by Nvidia for use on their GPUs. \n",
    "\n",
    "Since GPUs are able to perform large amounts of math much faster than CPUs, this makes the former two packages very popular for researchers who train large networks. Tensorflow asks you to build a computational graph using its API and then is able to pass data through that graph. PyTorch builds a dynamic graph and allows you to mix autograd functions with normal Python code much more smoothly, so it is currently more popular among people who want to build their own neural network for computer vision tasks.\n",
    "\n",
    "You will now use PyTorch as a framework. Many computer vision projects use neural networks as a basic building block, so familiarity with one of these frameworks is a good skill to develop. Here, you basically replicate and slightly expand your handwritten character recognition networks, but do it in PyTorch instead of from scratch. For this section, you will rewrite and retrain your fully-connected network on NIST36 in PyTorch and then plot training accuracy and loss over time. \n",
    "\n",
    "Although you are given the PyTorch code directly, you are encouraged to check PyTorch's <a url='https://pytorch.org/tutorials/beginner/deep_learning_60min_blitz.html'>official tutorial</a> and try to train a convolutional neural network with PyTorch on different datasets such as [MNIST](http://yann.lecun.com/exdb/mnist/) or [EMNIST](https://www.nist.gov/itl/products-and-services/emnist-dataset). \n"
   ]
  },
  {
   "cell_type": "markdown",
   "metadata": {
    "deletable": false,
    "editable": false,
    "nbgrader": {
     "checksum": "c332c23b97f9caabf36effb2d8d4977a",
     "grade": false,
     "grade_id": "cell-5de9c43820337095",
     "locked": true,
     "schema_version": 1,
     "solution": false
    }
   },
   "source": [
    "<a name=\"q9\"></a>\n",
    "## PyTorch Installation [ 0 pts]\n",
    "Follow the [official guideline](https://pytorch.org/get-started/locally/) to install PyTorch and then import the necessary libraries on the following section."
   ]
  },
  {
   "cell_type": "code",
   "execution_count": null,
   "metadata": {},
   "outputs": [],
   "source": [
    "import torch\n",
    "from torch.utils.data import DataLoader, TensorDataset\n",
    "import torch.nn.functional as F"
   ]
  },
  {
   "cell_type": "markdown",
   "metadata": {
    "deletable": false,
    "editable": false,
    "nbgrader": {
     "checksum": "05ed7f3871910700fa3d2315fb4a5ebb",
     "grade": false,
     "grade_id": "cell-73943af2f8e9c2d1",
     "locked": true,
     "schema_version": 1,
     "solution": false
    }
   },
   "source": [
    "<a name=\"q10\"></a>\n",
    "## Train Models with NIST36 (PyTorch) [ 0 pts]\n",
    "We already provide you the PyTorch version of training NIST36. Run the code and plot the accuracy and loss of the training and validation set. Make sure you understand the training loop and are able to relate each functional portion of the NumPy version to the PyTorch version. <b>This chunk of code will be extremely helpful if you want to utilize a neural network for classification tasks in your capstone project!<b>"
   ]
  },
  {
   "cell_type": "code",
   "execution_count": null,
   "metadata": {},
   "outputs": [],
   "source": [
    "loss_func = F.cross_entropy\n",
    "\n",
    "class MyLayerNet(torch.nn.Module):\n",
    "    def __init__(self, D_in, H, D_out):\n",
    "        super(MyLayerNet, self).__init__()\n",
    "        self.fc1 = torch.nn.Linear(D_in, H)\n",
    "        self.sigmoid = torch.nn.Sigmoid()\n",
    "        self.fc2 = torch.nn.Linear(H, D_out)\n",
    "    \n",
    "    def forward(self, x):\n",
    "        h_sigmoid = self.sigmoid(self.fc1(x))\n",
    "        y_pred = self.fc2(h_sigmoid)\n",
    "        return y_pred\n",
    "\n",
    "train_data = scipy.io.loadmat('data/nist36_train.mat')\n",
    "valid_data = scipy.io.loadmat('data/nist36_valid.mat')\n",
    "train_x, train_y = train_data['train_data'], train_data['train_labels']\n",
    "valid_x, valid_y = valid_data['valid_data'], valid_data['valid_labels']\n",
    "\n",
    "max_iters = 50\n",
    "batch_size = 32\n",
    "learning_rate = 1e-3\n",
    "hidden_size = 64\n",
    "\n",
    "# PyTorch conversion\n",
    "train_ds = TensorDataset(torch.from_numpy(train_x).type(torch.float32), torch.from_numpy(train_y).type(torch.LongTensor))\n",
    "train_loader = DataLoader(train_ds, batch_size=batch_size, shuffle=True)\n",
    "valid_ds = TensorDataset(torch.from_numpy(valid_x).type(torch.float32), torch.from_numpy(valid_y).type(torch.LongTensor))\n",
    "valid_loader = DataLoader(valid_ds, batch_size=batch_size, shuffle=True)\n",
    "\n",
    "model = MyLayerNet(input_size, hidden_size, output_size)\n",
    "optimizer = torch.optim.Adam(model.parameters(), lr=learning_rate)\n",
    "\n",
    "\n",
    "train_acc_list, valid_acc_list, train_loss_list, valid_loss_list = [], [], [], []\n",
    "\n",
    "for itr in range(max_iters):\n",
    "    total_loss = 0.\n",
    "    total_acc = 0.\n",
    "    model.train()\n",
    "    for xb, yb in train_loader:\n",
    "        ### MAKE SURE YOU KNOW THE PYTORCH IMPLEMENTATION ###\n",
    "        # forward\n",
    "        probs = model(xb)\n",
    "        gt = torch.argmax(yb, dim=1)\n",
    "        prediction = torch.argmax(probs, dim=1)\n",
    "        \n",
    "        # loss\n",
    "        loss = loss_func(probs, gt)\n",
    "        total_loss += loss.sum().item()\n",
    "        total_acc += prediction.eq(gt.data).cpu().sum().item()\n",
    "        \n",
    "        # backward\n",
    "        loss.backward()\n",
    "        \n",
    "        # apply gradient\n",
    "        optimizer.step()\n",
    "        optimizer.zero_grad()\n",
    "        ####################################################\n",
    "        \n",
    "    total_loss /= len(train_loader)\n",
    "    total_acc /= train_x.shape[0]\n",
    "    model.eval()\n",
    "    valid_loss, valid_acc = 0., 0.\n",
    "    with torch.no_grad():\n",
    "        for xb, yb in valid_loader:\n",
    "            ### MAKE SURE YOU KNOW THE PYTORCH IMPLEMENTATION ###\n",
    "            probs = model(xb)\n",
    "            gt = torch.argmax(yb, dim=1)\n",
    "            prediction = torch.argmax(probs, dim=1)\n",
    "            \n",
    "            # loss\n",
    "            loss = loss_func(probs, gt)\n",
    "            valid_loss += loss.sum().item()\n",
    "            valid_acc += prediction.eq(gt.data).cpu().sum().item()\n",
    "            ###################################################\n",
    "    valid_loss /= len(valid_loader)\n",
    "    valid_acc /= valid_y.shape[0]\n",
    "\n",
    "    train_loss_list.append(total_loss)\n",
    "    train_acc_list.append(total_acc)\n",
    "    valid_loss_list.append(valid_loss)\n",
    "    valid_acc_list.append(valid_acc)\n",
    "    if itr % 2 == 0 or itr == max_iters - 1:\n",
    "        print(\"training:: itr: {:02d} \\t loss: {:.2f} \\t acc : {:.2f}\".format(itr, total_loss,total_acc))\n",
    "        print(\"validation:: itr: {:02d} \\t loss: {:.2f} \\t acc : {:.2f}\".format(itr,valid_loss,valid_acc))\n",
    "\n"
   ]
  },
  {
   "cell_type": "markdown",
   "metadata": {
    "deletable": false,
    "editable": false,
    "nbgrader": {
     "checksum": "1704117a56653c030a09e315717ea49d",
     "grade": false,
     "grade_id": "cell-45278e1a5873a9bf",
     "locked": true,
     "schema_version": 1,
     "solution": false
    }
   },
   "source": [
    "Again, take a look at some visualizations of your accuracy over iterations. Think about what conclusions you can draw from these results. "
   ]
  },
  {
   "cell_type": "code",
   "execution_count": null,
   "metadata": {},
   "outputs": [],
   "source": [
    "x = np.arange(max_iters)\n",
    "plt.rcParams[\"figure.figsize\"] = (8, 8)\n",
    "plt.plot(x, train_acc_list, linewidth = 2, label = \"Training Accuracy\")\n",
    "plt.plot(x, valid_acc_list, linewidth = 2, label = \"Validation Accuracy\")\n",
    "plt.legend()\n",
    "plt.show()\n",
    "\n",
    "plt.plot(x, train_loss_list, linewidth = 2, label = \"Training Loss\")\n",
    "plt.plot(x, valid_loss_list, linewidth = 2, label = \"Validation Loss\")\n",
    "plt.legend()\n",
    "plt.show()"
   ]
  },
  {
   "cell_type": "markdown",
   "metadata": {
    "deletable": false,
    "editable": false,
    "nbgrader": {
     "checksum": "a344bd8bfae0b631136013045ffaa62f",
     "grade": false,
     "grade_id": "cell-f2651e87f8daeacc",
     "locked": true,
     "schema_version": 1,
     "solution": false
    }
   },
   "source": [
    "## Conclusion\n",
    "\n",
    "Now that you've completed the assignment, think about each essential component for building the neural network in terms of both the math formula and its functionality. Also, make sure you are able to use PyTorch to implement a simple neural network for digit classification as this modern deep learning framework will be helpful whenever you want to implement your own computer vision tasks. Take some time to try the challenge questions, where you will be asked to not only use a fully-connected network,  but a convolutional neural network to do classification on different datasets. "
   ]
  },
  {
   "cell_type": "markdown",
   "metadata": {
    "deletable": false,
    "editable": false,
    "nbgrader": {
     "checksum": "c25ce408b1d0fcb8abc9ab0f9ad3fa07",
     "grade": false,
     "grade_id": "cell-7e3c45786f341004",
     "locked": true,
     "schema_version": 1,
     "solution": false
    }
   },
   "source": [
    "# Challenge Question\n",
    "\n",
    "<a name=\"q10\"></a>\n",
    "## Play around with PyTorch!\n",
    "1. Train a convolutional neural network with PyTorch on the included NIST36 dataset.\n",
    "2. Train a convolutional neural network with PyTorch on MNIST. Plot training accuracy and loss over time."
   ]
  },
  {
   "cell_type": "code",
   "execution_count": null,
   "metadata": {},
   "outputs": [],
   "source": [
    "#Now it's your turn :) "
   ]
  }
 ],
 "metadata": {
  "colab": {
   "collapsed_sections": [],
   "name": "pa_template.ipynb",
   "provenance": [
    {
     "file_id": "14FWzujB9iTap8IyYndy2boJWYJFBixOT",
     "timestamp": 1627592344245
    }
   ]
  },
  "kernelspec": {
   "display_name": "Python 3",
   "language": "python",
   "name": "python3"
  },
  "language_info": {
   "codemirror_mode": {
    "name": "ipython",
    "version": 3
   },
   "file_extension": ".py",
   "mimetype": "text/x-python",
   "name": "python",
   "nbconvert_exporter": "python",
   "pygments_lexer": "ipython3",
   "version": "3.6.9"
  }
 },
 "nbformat": 4,
 "nbformat_minor": 4
}
